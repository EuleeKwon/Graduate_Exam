{
 "cells": [
  {
   "cell_type": "code",
   "execution_count": 6,
   "metadata": {
    "collapsed": false
   },
   "outputs": [],
   "source": [
    "import os\n",
    "import pandas as pd\n",
    "import matplotlib\n",
    "import matplotlib.pyplot as plt\n",
    "import openpyxl\n",
    "from datetime import datetime\n",
    "from pandas import Series\n",
    "import numpy as np\n"
   ]
  },
  {
   "cell_type": "code",
   "execution_count": 50,
   "metadata": {},
   "outputs": [],
   "source": [
    "def load_data_xls(dataset):\n",
    "    data_path = os.path.join('./', dataset)\n",
    "    df = pd.read_excel(data_path)\n",
    "    print(dataset, 'has been uploaded')\n",
    "    print(df.shape)\n",
    "    # print(df.describe())\n",
    "    return df\n",
    "\n",
    "\n",
    "def get_years(df):\n",
    "    years = []\n",
    "    for i in df[1].drop_duplicates():\n",
    "        years.append(i)\n",
    "    return years\n",
    "\n",
    "\n",
    "def get_keywords(df):\n",
    "    keywords = []\n",
    "    \n",
    "    for i in range(2, len(df.columns)):\n",
    "        keywords.append(df.iloc[:, i].drop_duplicates())\n",
    "    \n",
    "    return keywords\n",
    "    \n",
    "\n",
    "def get_kw_numbers(df, keyword):\n",
    "    # start = datetime.now()\n",
    "    kw_idx = []\n",
    "    for i in range(len(DF)):\n",
    "        for j in range(1, len(DF.columns)):\n",
    "            if DF.iloc[i, j] == keyword:\n",
    "               kw_idx.append(i)            \n",
    "    # end = datetime.now()\n",
    "    # print(end - start)\n",
    "    return df.iloc[kw_idx, 0].value_counts()\n"
   ]
  },
  {
   "cell_type": "code",
   "execution_count": 49,
   "metadata": {
    "collapsed": true
   },
   "outputs": [
    {
     "name": "stdout",
     "output_type": "stream",
     "text": [
      "('./saved_result/Combining_Data_2.xlsx', 'has been uploaded')\n(261690, 83)\n('./saved_result/save_file.xlsx', 'has been uploaded')\n(0, 55)\n"
     ]
    }
   ],
   "source": [
    "# DF = load_data_xls('./keys_per_year/keyword_year1.xlsx')\n",
    "DF = load_data_xls('./saved_result/Combining_Data_2.xlsx')\n",
    "sheet = load_data_xls('./saved_result/save_file.xlsx')\n",
    "# wb = openpyxl.load_workbook(\"./saved_result/save_file.xlsx\")\n",
    "# sheet = wb.get_sheet_by_name('Sheet1')\n",
    "# DF = load_data_xls(r'D:/dataset/PUBMED/Combining_Data.xlsx')\n",
    "years = get_years(DF)"
   ]
  },
  {
   "cell_type": "code",
   "execution_count": 51,
   "metadata": {
    "collapsed": false
   },
   "outputs": [
    {
     "name": "stdout",
     "output_type": "stream",
     "text": [
      "Yellow fever virus\n"
     ]
    },
    {
     "name": "stdout",
     "output_type": "stream",
     "text": [
      "2000    2\n1983    1\n1982    1\n1996    1\n2009    1\n1974    1\n1969    1\nName: Yellow fever virus, dtype: int64\nSchilling Test\n"
     ]
    },
    {
     "name": "stdout",
     "output_type": "stream",
     "text": [
      "1975    1\n2003    1\n2006    1\n1971    1\n1969    1\nName: Schilling Test, dtype: int64\nTranscription Factor AP-2\n"
     ]
    },
    {
     "name": "stdout",
     "output_type": "stream",
     "text": [
      "2015    4\n2008    2\n2012    1\n2011    1\n2010    1\n2009    1\n2007    1\n2004    1\n2003    1\n2002    1\n2001    1\n1998    1\n1997    1\n2018    1\n2017    1\nName: Transcription Factor AP-2, dtype: int64\nTranscription Factor AP-1\n"
     ]
    },
    {
     "name": "stdout",
     "output_type": "stream",
     "text": [
      "2010    8\n2006    7\n2003    7\n2007    7\n2002    5\n2004    5\n1997    5\n1998    5\n2000    5\n2011    4\n2005    4\n2014    4\n2001    4\n2008    3\n2012    3\n1996    3\n2009    3\n2013    2\n2015    2\n2018    1\n1999    1\n2017    1\n2016    1\n1994    1\nName: Transcription Factor AP-1, dtype: int64\nMacula Lutea\n"
     ]
    },
    {
     "name": "stdout",
     "output_type": "stream",
     "text": [
      "2017    6\n2012    5\n2018    3\n1969    3\n2011    3\n2007    3\n1998    3\n2003    3\n2001    2\n1968    2\n1973    2\n1974    2\n1985    2\n1989    2\n1993    2\n1996    2\n2008    2\n2009    2\n2014    2\n2002    1\n1982    1\n1967    1\n2016    1\n2015    1\n1971    1\n2013    1\n1975    1\n1980    1\n1983    1\n2000    1\n1984    1\n2010    1\n1986    1\n1994    1\n1995    1\n2006    1\n2005    1\n1966    1\nName: Macula Lutea, dtype: int64\nHemorrhagic Septicemia\n"
     ]
    },
    {
     "name": "stdout",
     "output_type": "stream",
     "text": [
      "1998    1\n1997    1\n2002    1\nName: Hemorrhagic Septicemia, dtype: int64\nElectroplating\n"
     ]
    },
    {
     "name": "stdout",
     "output_type": "stream",
     "text": [
      "2015    2\n2013    2\n2009    2\n2012    1\n2010    1\n2007    1\n2000    1\nName: Electroplating, dtype: int64\nArcanobacterium\n"
     ]
    },
    {
     "name": "stdout",
     "output_type": "stream",
     "text": [
      "2012    1\nName: Arcanobacterium, dtype: int64\nJaundice\n"
     ]
    },
    {
     "name": "stdout",
     "output_type": "stream",
     "text": [
      "1996    16\n2004    15\n2003    12\n1998    11\n2010     9\n2000     6\n2002     4\n2015     4\n1967     4\n1972     4\n1975     3\n1974     3\n1966     3\n1971     3\n1970     3\n2013     3\n1988     2\n1973     2\n1969     2\n1985     2\n2018     2\n1994     2\n2017     2\n1999     2\n2006     2\n2008     2\n2009     2\n1987     1\n1989     1\n1984     1\n1983     1\n1981     1\n2007     1\n2011     1\n1995     1\nName: Jaundice, dtype: int64\nHistamine H2 Antagonists\n"
     ]
    },
    {
     "name": "stdout",
     "output_type": "stream",
     "text": [
      "1983    6\n1998    4\n1999    3\n2015    3\n1982    2\n1994    2\n1997    2\n2000    2\n1984    2\n1981    2\n2010    1\n2004    1\n2012    1\n2002    1\n2001    1\n2016    1\n2017    1\n2018    1\n1980    1\n1996    1\n1995    1\n2003    1\nName: Histamine H2 Antagonists, dtype: int64\nForefoot, Human\n"
     ]
    },
    {
     "name": "stdout",
     "output_type": "stream",
     "text": [
      "2013    2\n2008    2\n2015    2\n1999    1\n2018    1\n1995    1\n2010    1\n2003    1\nName: Forefoot, Human, dtype: int64\nAfghan Campaign 2001-\n"
     ]
    },
    {
     "name": "stdout",
     "output_type": "stream",
     "text": [
      "2011    5\n2009    4\n2015    3\n2014    2\n2012    2\n2010    2\n2018    2\n2017    2\n2013    1\n2016    1\nName: Afghan Campaign 2001-, dtype: int64\nHereditary Sensory and Motor Neuropathy\n"
     ]
    },
    {
     "name": "stdout",
     "output_type": "stream",
     "text": [
      "1999    1\n1998    1\n2018    1\n2003    1\n1994    1\n2011    1\nName: Hereditary Sensory and Motor Neuropathy, dtype: int64\nX-Ray Therapy\n"
     ]
    },
    {
     "name": "stdout",
     "output_type": "stream",
     "text": [
      "2004    6\n1998    5\n2003    4\n2010    2\n2000    2\n2015    1\n2009    1\n2008    1\n2002    1\n1999    1\n1986    1\nName: X-Ray Therapy, dtype: int64\nDepth Perception\n"
     ]
    },
    {
     "name": "stdout",
     "output_type": "stream",
     "text": [
      "2012    5\n1999    4\n1982    3\n1993    3\n1994    3\n1996    3\n2001    3\n2004    3\n2013    3\n2011    3\n2010    3\n2006    2\n2003    2\n2007    2\n2008    2\n2014    2\n2018    2\n1986    2\n1975    1\n2005    1\n2016    1\n2017    1\n2000    1\n1998    1\n1997    1\n1970    1\n1995    1\n1973    1\n1974    1\nName: Depth Perception, dtype: int64\nDeath-Associated Protein Kinases\n"
     ]
    },
    {
     "name": "stdout",
     "output_type": "stream",
     "text": [
      "2012    3\n2016    2\n2015    1\n2014    1\n2010    1\n2006    1\n2005    1\n2017    1\nName: Death-Associated Protein Kinases, dtype: int64\nFluid Therapy\n"
     ]
    },
    {
     "name": "stdout",
     "output_type": "stream",
     "text": [
      "2016    13\n2017    12\n2014    11\n1995    10\n2015     9\n2012     9\n2018     8\n2013     7\n2011     7\n1994     7\n1993     6\n1997     6\n2002     5\n1983     5\n1982     5\n2007     5\n2005     4\n1999     4\n1998     4\n1996     4\n1987     4\n1986     4\n1985     3\n2006     3\n2008     3\n2009     3\n2010     3\n1988     3\n1981     2\n1984     2\n2000     2\n2004     2\n1989     1\n2001     1\n2003     1\n1980     1\nName: Fluid Therapy, dtype: int64\nNew Guinea\n"
     ]
    },
    {
     "name": "stdout",
     "output_type": "stream",
     "text": [
      "1998    2\n1973    2\n1971    2\n2015    1\n1982    1\n2016    1\n1972    1\n1970    1\n1969    1\n1968    1\n1966    1\n1965    1\n1996    1\n2018    1\n2017    1\n1984    1\nName: New Guinea, dtype: int64\nAbortion, Therapeutic\n"
     ]
    },
    {
     "name": "stdout",
     "output_type": "stream",
     "text": [
      "1972    5\n1968    5\n1995    4\n1974    2\n1973    2\n1997    2\n1998    2\n2001    2\n1983    1\n2002    1\n1996    1\n1999    1\n2000    1\n2007    1\n2003    1\n2006    1\n1982    1\n2010    1\n2017    1\n1967    1\n1969    1\n1979    1\n1994    1\nName: Abortion, Therapeutic, dtype: int64\nThioglycolates\n"
     ]
    },
    {
     "name": "stdout",
     "output_type": "stream",
     "text": [
      "1974    4\n1970    2\n2005    2\n2004    1\n1985    1\n2018    1\n1987    1\n1993    1\n2017    1\n1998    1\n1982    1\n1969    1\n2016    1\n1972    1\n2007    1\n2009    1\n2011    1\n1980    1\n1984    1\nName: Thioglycolates, dtype: int64\nWater Loss, Insensible\n"
     ]
    },
    {
     "name": "stdout",
     "output_type": "stream",
     "text": [
      "2013    2\n1983    1\n2014    1\n2010    1\n2008    1\n2007    1\n1973    1\n2002    1\n1998    1\n1997    1\n1996    1\n1994    1\n2005    1\n1988    1\n1987    1\n2015    1\nName: Water Loss, Insensible, dtype: int64\nCarotid Stenosis\n"
     ]
    },
    {
     "name": "stdout",
     "output_type": "stream",
     "text": [
      "2005    10\n2006     9\n2014     9\n2004     8\n2013     8\n2001     7\n2012     7\n2011     7\n2010     7\n2017     7\n2018     6\n2008     6\n2009     6\n2015     6\n2003     5\n2002     5\n2016     5\n1994     5\n1999     4\n1996     4\n1995     4\n2007     3\n1998     3\n1993     2\n2000     1\n1997     1\nName: Carotid Stenosis, dtype: int64\nTest Taking Skills\n"
     ]
    },
    {
     "name": "stdout",
     "output_type": "stream",
     "text": [
      "2017    1\n2016    1\nName: Test Taking Skills, dtype: int64\nMethylergonovine\n"
     ]
    },
    {
     "name": "stdout",
     "output_type": "stream",
     "text": [
      "1996    2\n1998    1\n2010    1\n2001    1\nName: Methylergonovine, dtype: int64\nOmalizumab\n"
     ]
    },
    {
     "name": "stdout",
     "output_type": "stream",
     "text": [
      "2013    4\n2017    4\n2016    3\n2015    2\n2012    2\n2007    2\n2018    2\n2014    1\n2010    1\n2009    1\n2008    1\n2005    1\n2003    1\n2002    1\nName: Omalizumab, dtype: int64\nZinc Finger E-box Binding Homeobox 2\n"
     ]
    },
    {
     "name": "stdout",
     "output_type": "stream",
     "text": [
      "2016    2\n2012    1\n2011    1\n2018    1\n2017    1\nName: Zinc Finger E-box Binding Homeobox 2, dtype: int64\nGadolinium\n"
     ]
    },
    {
     "name": "stdout",
     "output_type": "stream",
     "text": [
      "2012    8\n2018    7\n2010    7\n2016    5\n2013    5\n1999    5\n2001    4\n1997    4\n2014    4\n2011    4\n2004    3\n2008    3\n2015    3\n2017    2\n2003    2\n1998    2\n1993    2\n2007    1\n2006    1\n2002    1\n2009    1\n1996    1\n1995    1\n1994    1\n1987    1\n1974    1\nName: Gadolinium, dtype: int64\nLidocaine, Prilocaine Drug Combination\n"
     ]
    },
    {
     "name": "stdout",
     "output_type": "stream",
     "text": [
      "2006    2\n2003    2\n1998    1\n1997    1\n1993    1\n2007    1\n2002    1\nName: Lidocaine, Prilocaine Drug Combination, dtype: int64\ngamma-Butyrobetaine Dioxygenase\n"
     ]
    },
    {
     "name": "stdout",
     "output_type": "stream",
     "text": [
      "2010    1\nName: gamma-Butyrobetaine Dioxygenase, dtype: int64\nColonialism\n"
     ]
    },
    {
     "name": "stdout",
     "output_type": "stream",
     "text": [
      "1997    2\n2009    2\n2007    2\n2014    1\n2011    1\n2004    1\n2018    1\n2017    1\n2000    1\nName: Colonialism, dtype: int64\nDEAD Box Protein 58\n"
     ]
    },
    {
     "name": "stdout",
     "output_type": "stream",
     "text": [
      "2015    1\n2014    1\n2013    1\n2018    1\nName: DEAD Box Protein 58, dtype: int64\nFitness Centers\n"
     ]
    },
    {
     "name": "stdout",
     "output_type": "stream",
     "text": [
      "2007    1\n2011    1\n2008    1\n2002    1\n2017    1\n2000    1\nName: Fitness Centers, dtype: int64\nTetracycline Resistance\n"
     ]
    },
    {
     "name": "stdout",
     "output_type": "stream",
     "text": [
      "2008    2\n2000    2\n2004    1\n2014    1\n1996    1\n2011    1\n2010    1\n2007    1\n2005    1\n1988    1\n2003    1\n2017    1\nName: Tetracycline Resistance, dtype: int64\nEnoximone\n"
     ]
    },
    {
     "name": "stdout",
     "output_type": "stream",
     "text": [
      "1998    1\nName: Enoximone, dtype: int64\nInflammation Mediators\n"
     ]
    },
    {
     "name": "stdout",
     "output_type": "stream",
     "text": [
      "2018    31\n2016    27\n2010    25\n2017    24\n2013    22\n2014    19\n2009    19\n2011    17\n2012    16\n2015    15\n2008    13\n2007    13\n2006    10\n2005     8\n2004     8\n2002     6\n2001     6\n2000     5\n2003     4\n1999     4\n1998     3\n1997     2\n1995     2\n1996     1\nName: Inflammation Mediators, dtype: int64\nRetinal Dysplasia\n"
     ]
    },
    {
     "name": "stdout",
     "output_type": "stream",
     "text": [
      "2009    1\nName: Retinal Dysplasia, dtype: int64\nAldehyde Dehydrogenase\n"
     ]
    },
    {
     "name": "stdout",
     "output_type": "stream",
     "text": [
      "2006    4\n2017    3\n2015    3\n1999    3\n1982    2\n1996    2\n1998    2\n2000    2\n1985    2\n2011    2\n2016    2\n2009    1\n2010    1\n2018    1\n2003    1\n2012    1\n2014    1\n1997    1\n1995    1\n1994    1\n1993    1\n1988    1\n2005    1\nName: Aldehyde Dehydrogenase, dtype: int64\nManagement Information Systems\n"
     ]
    },
    {
     "name": "stdout",
     "output_type": "stream",
     "text": [
      "1984    6\n1989    5\n1985    3\n1987    3\n1988    3\n2001    3\n1998    3\n1995    2\n1990    2\n1993    2\n1994    2\n1983    2\n2002    2\n2005    2\n1996    2\n2016    1\n1999    1\n2004    1\n2010    1\n1986    1\n2014    1\nName: Management Information Systems, dtype: int64\n"
     ]
    },
    {
     "name": "stdout",
     "output_type": "stream",
     "text": [
      "Serotonin 5-HT1 Receptor Antagonists\n"
     ]
    },
    {
     "name": "stdout",
     "output_type": "stream",
     "text": [
      "2007    1\n2005    1\n2011    1\n2010    1\n2013    1\nName: Serotonin 5-HT1 Receptor Antagonists, dtype: int64\nReceptors, Tumor Necrosis Factor, Member 25\n"
     ]
    },
    {
     "name": "stdout",
     "output_type": "stream",
     "text": [
      "2000    1\nName: Receptors, Tumor Necrosis Factor, Member 25, dtype: int64\nDermatofibrosarcoma\n"
     ]
    },
    {
     "name": "stdout",
     "output_type": "stream",
     "text": [
      "2004    2\n2001    2\n2000    2\n1999    1\n2014    1\n2013    1\n1994    1\n2006    1\n2003    1\n2015    1\nName: Dermatofibrosarcoma, dtype: int64\nOxadiazoles\n"
     ]
    },
    {
     "name": "stdout",
     "output_type": "stream",
     "text": [
      "2015    6\n2016    5\n2017    4\n2006    3\n1985    3\n2013    3\n2001    3\n1983    2\n2000    2\n2012    2\n2011    2\n2003    2\n2007    2\n1996    1\n1998    1\n2002    1\n2010    1\n2008    1\n2009    1\n1982    1\n2014    1\n2018    1\n1974    1\n1980    1\n1984    1\nName: Oxadiazoles, dtype: int64\nLincomycin\n"
     ]
    },
    {
     "name": "stdout",
     "output_type": "stream",
     "text": [
      "2008    2\n1975    2\n1967    1\n1965    1\n2009    1\n2004    1\n1969    1\n2013    1\nName: Lincomycin, dtype: int64\nE2F2 Transcription Factor\n"
     ]
    },
    {
     "name": "stdout",
     "output_type": "stream",
     "text": [
      "2015    1\n2013    1\nName: E2F2 Transcription Factor, dtype: int64\nCytochrome Reductases\n"
     ]
    },
    {
     "name": "stdout",
     "output_type": "stream",
     "text": [
      "1982    2\n1986    2\n1981    1\n2008    1\n1975    1\n1974    1\n1973    1\n2004    1\nName: Cytochrome Reductases, dtype: int64\nKu Autoantigen\n"
     ]
    },
    {
     "name": "stdout",
     "output_type": "stream",
     "text": [
      "2013    3\n2006    2\n2005    2\n2002    2\n2014    1\n2011    1\n1998    1\n1997    1\n1996    1\n1994    1\n2017    1\n2016    1\nName: Ku Autoantigen, dtype: int64\nMetacarpal Bones\n"
     ]
    },
    {
     "name": "stdout",
     "output_type": "stream",
     "text": [
      "2013    3\n1996    2\n2007    2\n2015    1\n2014    1\n2018    1\n1971    1\n2012    1\n2016    1\nName: Metacarpal Bones, dtype: int64\nExtracellular Signal-Regulated MAP Kinases\n"
     ]
    },
    {
     "name": "stdout",
     "output_type": "stream",
     "text": [
      "2007    21\n2008    16\n2006    16\n2012    15\n2009    14\n2015    11\n2005    11\n2017    10\n2016    10\n2011    10\n2010    10\n2018     9\n2014     8\n2013     8\n1994     1\nName: Extracellular Signal-Regulated MAP Kinases, dtype: int64\nMixed Connective Tissue Disease\n"
     ]
    },
    {
     "name": "stdout",
     "output_type": "stream",
     "text": [
      "1984    3\n2003    2\n2009    1\n2010    1\n1994    1\n1993    1\n2008    1\n2006    1\n1989    1\n1988    1\n2002    1\n2001    1\nName: Mixed Connective Tissue Disease, dtype: int64\nLiability, Legal\n"
     ]
    },
    {
     "name": "stdout",
     "output_type": "stream",
     "text": [
      "2003    11\n1995    10\n2001     9\n2004     9\n1996     8\n1999     8\n2000     8\n2008     7\n1998     7\n2005     7\n2010     6\n2007     6\n1993     6\n2002     6\n1997     6\n1994     5\n1992     5\n1979     5\n2017     5\n2006     5\n2013     5\n2016     5\n2012     3\n1988     3\n2018     3\n2011     2\n1990     2\n1989     2\n1986     2\n2009     1\n2014     1\n1991     1\n1984     1\n1980     1\nName: Liability, Legal, dtype: int64\nOlfactory Receptor Neurons\n"
     ]
    },
    {
     "name": "stdout",
     "output_type": "stream",
     "text": [
      "2005    6\n1997    3\n2006    2\n2018    2\n1994    2\n1996    2\n2014    2\n2007    1\n2013    1\n2004    1\n2002    1\n2008    1\n2009    1\n2010    1\n2012    1\n2017    1\n2016    1\nName: Olfactory Receptor Neurons, dtype: int64\nPhenprocoumon\n"
     ]
    },
    {
     "name": "stdout",
     "output_type": "stream",
     "text": [
      "2014    2\n1982    1\n1995    1\n1994    1\n2007    1\n2002    1\n2000    1\nName: Phenprocoumon, dtype: int64\nButanols\n"
     ]
    },
    {
     "name": "stdout",
     "output_type": "stream",
     "text": [
      "2016    2\n2010    2\n1974    2\n1972    2\n2001    2\n2013    2\n2015    1\n2017    1\n2018    1\n1988    1\n2004    1\n1999    1\n1997    1\n1998    1\n1973    1\n2012    1\n1980    1\n1984    1\nName: Butanols, dtype: int64\nAnemia, Refractory, with Excess of Blasts\n"
     ]
    },
    {
     "name": "stdout",
     "output_type": "stream",
     "text": [
      "2001    2\n1998    1\n2013    1\n1987    1\n2000    1\nName: Anemia, Refractory, with Excess of Blasts, dtype: int64\nCarbon Monoxide Poisoning\n"
     ]
    },
    {
     "name": "stdout",
     "output_type": "stream",
     "text": [
      "2003    4\n1968    4\n2000    3\n2002    3\n2005    2\n1996    2\n1998    2\n2015    2\n2001    2\n2010    2\n1985    1\n1995    1\n1983    1\n2004    1\n1982    1\n2012    1\n2017    1\n1969    1\n1972    1\n1973    1\n1974    1\n1984    1\nName: Carbon Monoxide Poisoning, dtype: int64\nTrombiculidae\n"
     ]
    },
    {
     "name": "stdout",
     "output_type": "stream",
     "text": [
      "1998    1\n1981    1\n2006    1\n2003    1\n1993    1\nName: Trombiculidae, dtype: int64\nFinancial Support\n"
     ]
    },
    {
     "name": "stdout",
     "output_type": "stream",
     "text": [
      "1997    4\n2015    3\n2004    3\n2016    2\n1996    2\n2005    2\n1998    2\n1981    1\n2001    1\n1985    1\n1986    1\n1988    1\n1989    1\n1995    1\n2003    1\n2002    1\n1980    1\n2006    1\n2008    1\n2010    1\n2011    1\n2018    1\n1979    1\n1984    1\nName: Financial Support, dtype: int64\nAnimal Scales\n"
     ]
    },
    {
     "name": "stdout",
     "output_type": "stream",
     "text": [
      "2018    1\n2017    1\nName: Animal Scales, dtype: int64\nInfluenza A Virus, H9N2 Subtype\n"
     ]
    },
    {
     "name": "stdout",
     "output_type": "stream",
     "text": [
      "2016    2\n2011    2\n2015    1\n2018    1\n2009    1\n2008    1\nName: Influenza A Virus, H9N2 Subtype, dtype: int64\nEncainide\n"
     ]
    },
    {
     "name": "stdout",
     "output_type": "stream",
     "text": [
      "1983    1\nName: Encainide, dtype: int64\nCross-Cultural Comparison\n"
     ]
    },
    {
     "name": "stdout",
     "output_type": "stream",
     "text": [
      "2012    16\n2011    16\n1995    15\n2009    13\n1997    11\n2016    11\n2008    11\n2018    10\n2010    10\n2013    10\n2015    10\n2007     9\n2014     8\n2006     8\n2005     8\n1994     8\n1996     7\n2001     7\n2003     7\n1998     6\n2017     5\n2004     5\n2000     4\n2002     4\n1987     4\n1983     4\n1973     3\n1993     3\n1989     3\n1986     3\n1988     2\n1970     2\n1972     2\n1969     1\n1999     1\n1981     1\n1984     1\n1992     1\n1968     1\nName: Cross-Cultural Comparison, dtype: int64\nE2F Transcription Factors\n"
     ]
    },
    {
     "name": "stdout",
     "output_type": "stream",
     "text": [
      "2005    3\n2002    2\n2001    2\n2000    2\n2015    1\n2014    1\n2011    1\n2009    1\n2008    1\n2006    1\n2003    1\n1999    1\n1995    1\n1993    1\n2018    1\nName: E2F Transcription Factors, dtype: int64\nMedicare Part D\n"
     ]
    },
    {
     "name": "stdout",
     "output_type": "stream",
     "text": [
      "2008    3\n2017    3\n2013    1\n2011    1\n2010    1\n2009    1\n2018    1\nName: Medicare Part D, dtype: int64\nDisks Large Homolog 4 Protein\n"
     ]
    },
    {
     "name": "stdout",
     "output_type": "stream",
     "text": [
      "2014    2\n2012    2\n2016    2\n2015    1\n2013    1\n2011    1\n2010    1\n2009    1\n2007    1\n2006    1\n2004    1\nName: Disks Large Homolog 4 Protein, dtype: int64\nDesert Climate\n"
     ]
    },
    {
     "name": "stdout",
     "output_type": "stream",
     "text": [
      "2018    4\n2007    4\n2012    3\n2004    3\n2006    3\n2015    3\n2008    3\n1996    2\n2011    1\n2003    1\n2009    1\n2010    1\n1975    1\n1974    1\n2013    1\n2014    1\n2016    1\n2017    1\n1966    1\n1969    1\n1972    1\n1987    1\nName: Desert Climate, dtype: int64\nBibliometrics\n"
     ]
    },
    {
     "name": "stdout",
     "output_type": "stream",
     "text": [
      "2011    9\n2016    8\n2006    7\n2015    6\n2014    6\n2009    6\n2008    4\n2017    4\n2013    4\n2007    4\n2018    3\n2012    3\n2005    2\n2010    1\n2003    1\n2002    1\n2000    1\n1999    1\n1997    1\n1996    1\nName: Bibliometrics, dtype: int64\nMouth Floor\n"
     ]
    },
    {
     "name": "stdout",
     "output_type": "stream",
     "text": [
      "1986    4\n2008    3\n1993    3\n2009    2\n1998    2\n1983    1\n2003    1\n1985    1\n2018    1\n1999    1\n2014    1\n1982    1\n1973    1\n2006    1\n2011    1\n1980    1\n2013    1\n2016    1\nName: Mouth Floor, dtype: int64\nLacosamide\n"
     ]
    },
    {
     "name": "stdout",
     "output_type": "stream",
     "text": [
      "2011    1\n2014    1\nName: Lacosamide, dtype: int64\nComputer Communication Networks\n"
     ]
    },
    {
     "name": "stdout",
     "output_type": "stream",
     "text": [
      "1998    17\n1997    17\n2014     8\n1996     8\n2015     6\n2002     6\n1995     6\n2006     6\n2008     5\n1999     5\n2004     4\n2001     4\n2000     4\n1994     4\n2005     3\n2011     3\n1988     2\n2003     2\n1987     2\n2016     2\n2007     2\n2010     2\n2009     1\n2012     1\n1993     1\n1992     1\n2013     1\n2017     1\nName: Computer Communication Networks, dtype: int64\nPedophilia\n"
     ]
    },
    {
     "name": "stdout",
     "output_type": "stream",
     "text": [
      "1983    1\n1988    1\n2008    1\n1994    1\n2000    1\nName: Pedophilia, dtype: int64\nEndotoxemia\n"
     ]
    },
    {
     "name": "stdout",
     "output_type": "stream",
     "text": [
      "2011    5\n2005    4\n2010    4\n2014    3\n2008    3\n2004    2\n1999    2\n2000    2\n2017    2\n2012    2\n2016    1\n2006    1\n2003    1\n2001    1\n2013    1\n1998    1\n1997    1\n1996    1\nName: Endotoxemia, dtype: int64\nGold Colloid, Radioactive\n"
     ]
    },
    {
     "name": "stdout",
     "output_type": "stream",
     "text": [
      "1974    2\n1972    2\n2003    2\n1980    1\n1996    1\n1970    1\n1968    1\nName: Gold Colloid, Radioactive, dtype: int64\nSalmonella enterica\n"
     ]
    },
    {
     "name": "stdout",
     "output_type": "stream",
     "text": [
      "2010    5\n2018    4\n2014    4\n2006    4\n2017    4\n2002    3\n2003    3\n2008    3\n2015    3\n2012    2\n2013    2\n2005    2\n2004    2\n2016    2\n2011    1\n2009    1\n2007    1\n2001    1\n2000    1\n1998    1\nName: Salmonella enterica, dtype: int64\nMafB Transcription Factor\n"
     ]
    },
    {
     "name": "stdout",
     "output_type": "stream",
     "text": [
      "2016    2\n2011    1\n2004    1\n2003    1\n2017    1\n2008    1\nName: MafB Transcription Factor, dtype: int64\nSexual and Gender Minorities\n"
     ]
    },
    {
     "name": "stdout",
     "output_type": "stream",
     "text": [
      "2018    10\n2017     6\nName: Sexual and Gender Minorities, dtype: int64\nStents\n"
     ]
    },
    {
     "name": "stdout",
     "output_type": "stream",
     "text": [
      "2013    34\n2006    33\n2014    32\n2018    31\n2011    31\n2007    31\n2017    29\n2010    29\n2009    28\n2015    27\n2016    25\n2012    24\n2002    23\n2005    23\n2008    22\n2004    21\n2003    20\n1999    19\n2000    18\n2001    16\n1998    14\n1997    11\n1995     8\n1996     5\n1994     5\n1993     3\nName: Stents, dtype: int64\nRNA, Satellite\n"
     ]
    },
    {
     "name": "stdout",
     "output_type": "stream",
     "text": [
      "2012    1\n2000    1\nName: RNA, Satellite, dtype: int64\nBreath Holding\n"
     ]
    },
    {
     "name": "stdout",
     "output_type": "stream",
     "text": [
      "2015    4\n2014    3\nName: Breath Holding, dtype: int64\nUrinary Tract Physiological Phenomena\n"
     ]
    },
    {
     "name": "stdout",
     "output_type": "stream",
     "text": [
      "2003    10\n1998     4\n2002     3\n2004     2\n2000     2\n1996     2\n2008     1\n2007     1\nName: Urinary Tract Physiological Phenomena, dtype: int64\nPsychotherapy, Rational-Emotive\n"
     ]
    },
    {
     "name": "stdout",
     "output_type": "stream",
     "text": [
      "1994    1\n2004    1\nName: Psychotherapy, Rational-Emotive, dtype: int64\nNitrazepam\n"
     ]
    },
    {
     "name": "stdout",
     "output_type": "stream",
     "text": [
      "1975    1\n1998    1\n1989    1\n2003    1\nName: Nitrazepam, dtype: int64\nMethemoglobin\n"
     ]
    },
    {
     "name": "stdout",
     "output_type": "stream",
     "text": [
      "1984    2\n1974    2\n1966    2\n2015    2\n1996    2\n1997    2\n2000    2\n2003    2\n2002    1\n1985    1\n1986    1\n1988    1\n1993    1\n1995    1\n1998    1\n1999    1\n1981    1\n1980    1\n2008    1\n2010    1\n2011    1\n2014    1\n2016    1\n1967    1\n1968    1\n1969    1\n1972    1\n2004    1\nName: Methemoglobin, dtype: int64\nEnkephalin, Leucine\n"
     ]
    },
    {
     "name": "stdout",
     "output_type": "stream",
     "text": [
      "1986    3\n1981    2\n1987    2\n1984    2\n1983    1\n1997    1\n2012    1\n1995    1\n1994    1\n2002    1\n1985    1\nName: Enkephalin, Leucine, dtype: int64\nBone Plates\n"
     ]
    },
    {
     "name": "stdout",
     "output_type": "stream",
     "text": [
      "2016    10\n2014    10\n2011    10\n2018     9\n2009     9\n2017     9\n2004     8\n2013     8\n2012     8\n2015     7\n2008     7\n2003     6\n1998     5\n2005     5\n2010     5\n2007     4\n1994     4\n1983     4\n2002     3\n1981     3\n1997     3\n1995     3\n1987     2\n1974     2\n1980     2\n1984     2\n1973     2\n1988     2\n1993     2\n2000     2\n2001     2\n2006     2\n1986     1\n1985     1\n1989     1\n1982     1\n1976     1\n1975     1\n1999     1\nName: Bone Plates, dtype: int64\nCefepime\n"
     ]
    },
    {
     "name": "stdout",
     "output_type": "stream",
     "text": [
      "2016    2\n2013    2\n1997    1\n2011    1\n2010    1\n2003    1\n2001    1\nName: Cefepime, dtype: int64\nColombia\n"
     ]
    },
    {
     "name": "stdout",
     "output_type": "stream",
     "text": [
      "2017    8\n2016    7\n2014    7\n2012    7\n2018    5\n2009    4\n2015    4\n2013    4\n2004    3\n2003    3\n2011    3\n1985    2\n2006    2\n2010    2\n2002    2\n2001    2\n1999    2\n2007    2\n1997    2\n1996    2\n2008    1\n1973    1\n1975    1\n1982    1\n1998    1\n1988    1\n1995    1\n2000    1\n2005    1\n1970    1\nName: Colombia, dtype: int64\nAir Abrasion, Dental\n"
     ]
    },
    {
     "name": "stdout",
     "output_type": "stream",
     "text": [
      "2006    2\n2005    2\n2014    1\n2013    1\n2011    1\n2010    1\n2008    1\n2002    1\n2017    1\n2016    1\nName: Air Abrasion, Dental, dtype: int64\nNitroblue Tetrazolium\n"
     ]
    },
    {
     "name": "stdout",
     "output_type": "stream",
     "text": [
      "1988    3\n1995    2\n1999    1\n1982    1\n2009    1\n2007    1\n2005    1\n2002    1\n2001    1\n1984    1\nName: Nitroblue Tetrazolium, dtype: int64\nFicus\n"
     ]
    },
    {
     "name": "stdout",
     "output_type": "stream",
     "text": [
      "2014    2\n2012    2\n2010    2\n2013    1\n2007    1\n2005    1\nName: Ficus, dtype: int64\nN-Methyl-3,4-methylenedioxyamphetamine\n"
     ]
    },
    {
     "name": "stdout",
     "output_type": "stream",
     "text": [
      "2016    3\n2002    3\n2001    3\n2018    2\n2010    2\n2009    2\n2007    2\n1997    1\n1998    1\n1999    1\n2000    1\n2015    1\n2003    1\n2014    1\n2005    1\n2006    1\n2008    1\n2011    1\n2013    1\n2004    1\nName: N-Methyl-3,4-methylenedioxyamphetamine, dtype: int64\nNephrons\n"
     ]
    },
    {
     "name": "stdout",
     "output_type": "stream",
     "text": [
      "1997    3\n2003    3\n1983    2\n2013    2\n1986    2\n1995    2\n2011    2\n2006    2\n2015    2\n2014    1\n2012    1\n2009    1\n1982    1\n2005    1\n2004    1\n2016    1\n2001    1\n2000    1\n2017    1\n1996    1\n1980    1\n1988    1\n1981    1\n1984    1\nName: Nephrons, dtype: int64\nPiebaldism\n"
     ]
    },
    {
     "name": "stdout",
     "output_type": "stream",
     "text": [
      "2015    2\n1997    1\n2004    1\nName: Piebaldism, dtype: int64\nFloxacillin\n"
     ]
    },
    {
     "ename": "KeyboardInterrupt",
     "evalue": "",
     "traceback": [
      "\u001b[1;31m\u001b[0m",
      "\u001b[1;31mKeyboardInterrupt\u001b[0mTraceback (most recent call last)",
      "\u001b[1;32m<ipython-input-51-2a7a027efc87>\u001b[0m in \u001b[0;36m<module>\u001b[1;34m()\u001b[0m\n\u001b[0;32m      4\u001b[0m     \u001b[1;32mprint\u001b[0m\u001b[1;33m(\u001b[0m\u001b[0mlist_keyword\u001b[0m\u001b[1;33m[\u001b[0m\u001b[0mi\u001b[0m\u001b[1;33m]\u001b[0m\u001b[1;33m[\u001b[0m\u001b[1;36m0\u001b[0m\u001b[1;33m]\u001b[0m\u001b[1;33m.\u001b[0m\u001b[0mencode\u001b[0m\u001b[1;33m(\u001b[0m\u001b[1;34m\"utf-8\"\u001b[0m\u001b[1;33m)\u001b[0m\u001b[1;33m)\u001b[0m\u001b[1;33m\u001b[0m\u001b[0m\n\u001b[0;32m      5\u001b[0m     \u001b[0mlist_temp\u001b[0m \u001b[1;33m=\u001b[0m \u001b[0mlist_keyword\u001b[0m\u001b[1;33m[\u001b[0m\u001b[0mi\u001b[0m\u001b[1;33m]\u001b[0m\u001b[1;33m[\u001b[0m\u001b[1;36m0\u001b[0m\u001b[1;33m]\u001b[0m\u001b[1;33m.\u001b[0m\u001b[0mencode\u001b[0m\u001b[1;33m(\u001b[0m\u001b[1;34m\"utf-8\"\u001b[0m\u001b[1;33m)\u001b[0m\u001b[1;33m\u001b[0m\u001b[0m\n\u001b[1;32m----> 6\u001b[1;33m     \u001b[0mdata\u001b[0m \u001b[1;33m=\u001b[0m \u001b[0mget_kw_numbers\u001b[0m\u001b[1;33m(\u001b[0m\u001b[0mDF\u001b[0m\u001b[1;33m,\u001b[0m \u001b[0mlist_temp\u001b[0m\u001b[1;33m)\u001b[0m\u001b[1;33m\u001b[0m\u001b[0m\n\u001b[0m\u001b[0;32m      7\u001b[0m     \u001b[0mdata\u001b[0m\u001b[1;33m.\u001b[0m\u001b[0mname\u001b[0m \u001b[1;33m=\u001b[0m \u001b[0mlist_temp\u001b[0m\u001b[1;33m\u001b[0m\u001b[0m\n\u001b[0;32m      8\u001b[0m     \u001b[1;32mprint\u001b[0m\u001b[1;33m(\u001b[0m\u001b[0mdata\u001b[0m\u001b[1;33m)\u001b[0m\u001b[1;33m\u001b[0m\u001b[0m\n",
      "\u001b[1;32m<ipython-input-50-023e2272fa6a>\u001b[0m in \u001b[0;36mget_kw_numbers\u001b[1;34m(df, keyword)\u001b[0m\n\u001b[0;32m     29\u001b[0m     \u001b[1;32mfor\u001b[0m \u001b[0mi\u001b[0m \u001b[1;32min\u001b[0m \u001b[0mrange\u001b[0m\u001b[1;33m(\u001b[0m\u001b[0mlen\u001b[0m\u001b[1;33m(\u001b[0m\u001b[0mDF\u001b[0m\u001b[1;33m)\u001b[0m\u001b[1;33m)\u001b[0m\u001b[1;33m:\u001b[0m\u001b[1;33m\u001b[0m\u001b[0m\n\u001b[0;32m     30\u001b[0m         \u001b[1;32mfor\u001b[0m \u001b[0mj\u001b[0m \u001b[1;32min\u001b[0m \u001b[0mrange\u001b[0m\u001b[1;33m(\u001b[0m\u001b[1;36m1\u001b[0m\u001b[1;33m,\u001b[0m \u001b[0mlen\u001b[0m\u001b[1;33m(\u001b[0m\u001b[0mDF\u001b[0m\u001b[1;33m.\u001b[0m\u001b[0mcolumns\u001b[0m\u001b[1;33m)\u001b[0m\u001b[1;33m)\u001b[0m\u001b[1;33m:\u001b[0m\u001b[1;33m\u001b[0m\u001b[0m\n\u001b[1;32m---> 31\u001b[1;33m             \u001b[1;32mif\u001b[0m \u001b[0mDF\u001b[0m\u001b[1;33m.\u001b[0m\u001b[0miloc\u001b[0m\u001b[1;33m[\u001b[0m\u001b[0mi\u001b[0m\u001b[1;33m,\u001b[0m \u001b[0mj\u001b[0m\u001b[1;33m]\u001b[0m \u001b[1;33m==\u001b[0m \u001b[0mkeyword\u001b[0m\u001b[1;33m:\u001b[0m\u001b[1;33m\u001b[0m\u001b[0m\n\u001b[0m\u001b[0;32m     32\u001b[0m                \u001b[0mkw_idx\u001b[0m\u001b[1;33m.\u001b[0m\u001b[0mappend\u001b[0m\u001b[1;33m(\u001b[0m\u001b[0mi\u001b[0m\u001b[1;33m)\u001b[0m\u001b[1;33m\u001b[0m\u001b[0m\n\u001b[0;32m     33\u001b[0m     \u001b[1;31m# end = datetime.now()\u001b[0m\u001b[1;33m\u001b[0m\u001b[1;33m\u001b[0m\u001b[0m\n",
      "\u001b[1;32mC:\\Users\\Hyun Jin Kwon\\PycharmProjects\\Graduate_Exam\\venv\\lib\\site-packages\\pandas\\core\\indexing.pyc\u001b[0m in \u001b[0;36m__getitem__\u001b[1;34m(self, key)\u001b[0m\n\u001b[0;32m   1488\u001b[0m                         for x in key)\n\u001b[0;32m   1489\u001b[0m             \u001b[1;32mtry\u001b[0m\u001b[1;33m:\u001b[0m\u001b[1;33m\u001b[0m\u001b[0m\n\u001b[1;32m-> 1490\u001b[1;33m                 \u001b[1;32mif\u001b[0m \u001b[0mself\u001b[0m\u001b[1;33m.\u001b[0m\u001b[0m_is_scalar_access\u001b[0m\u001b[1;33m(\u001b[0m\u001b[0mkey\u001b[0m\u001b[1;33m)\u001b[0m\u001b[1;33m:\u001b[0m\u001b[1;33m\u001b[0m\u001b[0m\n\u001b[0m\u001b[0;32m   1491\u001b[0m                     \u001b[1;32mreturn\u001b[0m \u001b[0mself\u001b[0m\u001b[1;33m.\u001b[0m\u001b[0m_getitem_scalar\u001b[0m\u001b[1;33m(\u001b[0m\u001b[0mkey\u001b[0m\u001b[1;33m)\u001b[0m\u001b[1;33m\u001b[0m\u001b[0m\n\u001b[0;32m   1492\u001b[0m             \u001b[1;32mexcept\u001b[0m \u001b[1;33m(\u001b[0m\u001b[0mKeyError\u001b[0m\u001b[1;33m,\u001b[0m \u001b[0mIndexError\u001b[0m\u001b[1;33m,\u001b[0m \u001b[0mAttributeError\u001b[0m\u001b[1;33m)\u001b[0m\u001b[1;33m:\u001b[0m\u001b[1;33m\u001b[0m\u001b[0m\n",
      "\u001b[1;32mC:\\Users\\Hyun Jin Kwon\\PycharmProjects\\Graduate_Exam\\venv\\lib\\site-packages\\pandas\\core\\indexing.pyc\u001b[0m in \u001b[0;36m_is_scalar_access\u001b[1;34m(self, key)\u001b[0m\n\u001b[0;32m   2098\u001b[0m             \u001b[1;32mreturn\u001b[0m \u001b[0mFalse\u001b[0m\u001b[1;33m\u001b[0m\u001b[0m\n\u001b[0;32m   2099\u001b[0m \u001b[1;33m\u001b[0m\u001b[0m\n\u001b[1;32m-> 2100\u001b[1;33m         \u001b[1;32mfor\u001b[0m \u001b[0mi\u001b[0m\u001b[1;33m,\u001b[0m \u001b[0mk\u001b[0m \u001b[1;32min\u001b[0m \u001b[0menumerate\u001b[0m\u001b[1;33m(\u001b[0m\u001b[0mkey\u001b[0m\u001b[1;33m)\u001b[0m\u001b[1;33m:\u001b[0m\u001b[1;33m\u001b[0m\u001b[0m\n\u001b[0m\u001b[0;32m   2101\u001b[0m             \u001b[1;32mif\u001b[0m \u001b[1;32mnot\u001b[0m \u001b[0mis_integer\u001b[0m\u001b[1;33m(\u001b[0m\u001b[0mk\u001b[0m\u001b[1;33m)\u001b[0m\u001b[1;33m:\u001b[0m\u001b[1;33m\u001b[0m\u001b[0m\n\u001b[0;32m   2102\u001b[0m                 \u001b[1;32mreturn\u001b[0m \u001b[0mFalse\u001b[0m\u001b[1;33m\u001b[0m\u001b[0m\n",
      "\u001b[1;31mKeyboardInterrupt\u001b[0m: "
     ],
     "output_type": "error"
    }
   ],
   "source": [
    "df1 = pd.read_excel('./saved_result/keyword_list(63).xlsx',header=None)\n",
    "list_keyword = df1.values.tolist()\n",
    "for i in range(len(list_keyword)):\n",
    "    print(list_keyword[i][0].encode(\"utf-8\"))\n",
    "    list_temp = list_keyword[i][0].encode(\"utf-8\")\n",
    "    data = get_kw_numbers(DF, list_temp)\n",
    "    data.name = list_temp\n",
    "    print(data)\n",
    "    data_df = data.to_frame().T # convert to dataframe\n",
    "    sheet = sheet.append(data_df)\n",
    "sheet.to_excel('./saved_result/save_file.xlsx')"
   ]
  },
  {
   "cell_type": "code",
   "execution_count": 52,
   "metadata": {},
   "outputs": [],
   "source": [
    "sheet.to_excel('./saved_result/save_file.xlsx')"
   ]
  },
  {
   "cell_type": "code",
   "execution_count": null,
   "metadata": {},
   "outputs": [],
   "source": []
  }
 ],
 "metadata": {
  "kernelspec": {
   "display_name": "Python 2",
   "language": "python",
   "name": "python2"
  },
  "language_info": {
   "codemirror_mode": {
    "name": "ipython",
    "version": 2
   },
   "file_extension": ".py",
   "mimetype": "text/x-python",
   "name": "python",
   "nbconvert_exporter": "python",
   "pygments_lexer": "ipython2",
   "version": "2.7.6"
  }
 },
 "nbformat": 4,
 "nbformat_minor": 0
}
