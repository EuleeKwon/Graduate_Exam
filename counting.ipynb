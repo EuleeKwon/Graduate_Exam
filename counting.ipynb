{
 "cells": [
  {
   "cell_type": "code",
   "execution_count": null,
   "metadata": {
    "collapsed": false
   },
   "outputs": [],
   "source": [
    "import os\n",
    "import pandas as pd\n",
    "import matplotlib\n",
    "import matplotlib.pyplot as plt\n",
    "from datetime import datetime\n",
    "from pandas import Series\n",
    "import numpy as np\n"
   ]
  },
  {
   "cell_type": "code",
   "execution_count": 126,
   "metadata": {},
   "outputs": [],
   "source": [
    "def load_data_xls(dataset):\n",
    "    data_path = os.path.join('./', dataset)\n",
    "    df = pd.read_excel(data_path)\n",
    "    print(dataset, 'has been uploaded')\n",
    "    print(df.shape)\n",
    "    # print(df.describe())\n",
    "    return df\n",
    "\n",
    "\n",
    "def get_years(df):\n",
    "    years = []\n",
    "    for i in df[1].drop_duplicates():\n",
    "        years.append(i)\n",
    "    return years\n",
    "\n",
    "\n",
    "def get_keywords(df):\n",
    "    keywords = []\n",
    "    \n",
    "    for i in range(2, len(df.columns)):\n",
    "        keywords.append(df.iloc[:, i].drop_duplicates())\n",
    "    \n",
    "    return keywords\n",
    "    \n",
    "\n",
    "def get_kw_numbers(df, keyword):\n",
    "    # start = datetime.now()\n",
    "    kw_idx = []\n",
    "    for i in range(len(DF)):\n",
    "        for j in range(1, len(DF.columns)):\n",
    "            if DF.iloc[i, j] == keyword:\n",
    "               kw_idx.append(i)            \n",
    "    # end = datetime.now()\n",
    "    # print(end - start)\n",
    "    return df.iloc[kw_idx, 1].value_counts()\n",
    "\n",
    "\n",
    "def save_keyword(data_df):\n",
    "    sheet = load_data_xls('./saved_result/save_file.xlsx')\n",
    "    print(\"save_keyword:\", data_df)\n",
    "    sheet = pd.concat([sheet, data_df], axis=0, ignore_index=True)\n",
    "    sheet.to_excel('./saved_result/save_file.xlsx')\n",
    "    print(sheet)\n"
   ]
  },
  {
   "cell_type": "code",
   "execution_count": 123,
   "metadata": {
    "collapsed": true
   },
   "outputs": [
    {
     "name": "stdout",
     "output_type": "stream",
     "text": [
      "('./keys_per_year/keyword_year1.xlsx', 'has been uploaded')\n(30000, 84)\n"
     ]
    }
   ],
   "source": [
    "# DF = load_data_xls('./keys_per_year/keyword_year1.xlsx')\n",
    "DF = load_data_xls(r'D:/dataset/PUBMED/Combining_Data.xlsx')\n",
    "years = get_years(DF)"
   ]
  },
  {
   "cell_type": "code",
   "execution_count": null,
   "metadata": {
    "collapsed": true
   },
   "outputs": [],
   "source": [
    "df1 = pd.read_excel('./saved_result/keyword_list(63).xlsx',header=None)\n",
    "list_keyword = df1.values.tolist()\n",
    "for i in range(2):\n",
    "    print(list_keyword[i][0].encode(\"utf-8\"))\n",
    "    list_temp = list_keyword[i][0].encode(\"utf-8\")\n",
    "    data = get_kw_numbers(DF, list_temp)\n",
    "    data.name = list_temp\n",
    "    # print(data)\n",
    "    # print(type(data))\n",
    "    data_df = data.to_frame().T # convert to dataframe\n",
    "    # print(data_df)\n",
    "    # print(type(data_df))\n",
    "    save_keyword(data_df)\n",
    "\n"
   ]
  },
  {
   "cell_type": "code",
   "execution_count": 7,
   "metadata": {},
   "outputs": [],
   "source": []
  },
  {
   "cell_type": "code",
   "execution_count": null,
   "metadata": {},
   "outputs": [],
   "source": []
  }
 ],
 "metadata": {
  "kernelspec": {
   "display_name": "Python 2",
   "language": "python",
   "name": "python2"
  },
  "language_info": {
   "codemirror_mode": {
    "name": "ipython",
    "version": 2
   },
   "file_extension": ".py",
   "mimetype": "text/x-python",
   "name": "python",
   "nbconvert_exporter": "python",
   "pygments_lexer": "ipython2",
   "version": "2.7.6"
  }
 },
 "nbformat": 4,
 "nbformat_minor": 0
}
